{
  "nbformat": 4,
  "nbformat_minor": 0,
  "metadata": {
    "colab": {
      "provenance": [],
      "collapsed_sections": [],
      "include_colab_link": true
    },
    "kernelspec": {
      "name": "python3",
      "display_name": "Python 3"
    },
    "language_info": {
      "name": "python"
    },
    "accelerator": "GPU"
  },
  "cells": [
    {
      "cell_type": "markdown",
      "metadata": {
        "id": "view-in-github",
        "colab_type": "text"
      },
      "source": [
        "<a href=\"https://colab.research.google.com/github/smit-1z/ImageClassifier/blob/main/Copy_of_ic.ipynb\" target=\"_parent\"><img src=\"https://colab.research.google.com/assets/colab-badge.svg\" alt=\"Open In Colab\"/></a>"
      ]
    },
    {
      "cell_type": "markdown",
      "source": [
        "Importing Libraries"
      ],
      "metadata": {
        "id": "TCH3OLhDoxKQ"
      }
    },
    {
      "cell_type": "code",
      "execution_count": 4,
      "metadata": {
        "id": "TBzjXj0Wn7Ys"
      },
      "outputs": [],
      "source": [
        "import numpy as np\n",
        "import keras\n",
        "import tensorflow as tf\n",
        "from keras.preprocessing.image import ImageDataGenerator\n",
        "from keras.utils import load_img, img_to_array \n"
      ]
    },
    {
      "cell_type": "code",
      "source": [
        "from google.colab import drive\n",
        "drive.mount('/content/drive', force_remount=True)"
      ],
      "metadata": {
        "colab": {
          "base_uri": "https://localhost:8080/"
        },
        "id": "O6QyBtlWkm0k",
        "outputId": "09cd24be-36b4-4d1b-c112-cdb087f20ef7"
      },
      "execution_count": 11,
      "outputs": [
        {
          "output_type": "stream",
          "name": "stdout",
          "text": [
            "Mounted at /content/drive\n"
          ]
        }
      ]
    },
    {
      "cell_type": "markdown",
      "source": [
        "Tensorflow & Keras Verison"
      ],
      "metadata": {
        "id": "h5GB6Eh5pEjn"
      }
    },
    {
      "cell_type": "code",
      "source": [
        "print(\"Tensorflow Version \" + tf.__version__)\n",
        "print(\"Keras Version \" + keras.__version__)"
      ],
      "metadata": {
        "colab": {
          "base_uri": "https://localhost:8080/"
        },
        "id": "p3wSRelZ_BpC",
        "outputId": "4e2adb37-9769-4b83-8a4a-18c23e7e8d48"
      },
      "execution_count": 68,
      "outputs": [
        {
          "output_type": "stream",
          "name": "stdout",
          "text": [
            "Tensorflow Version 2.9.2\n",
            "Keras Version 2.9.0\n"
          ]
        }
      ]
    },
    {
      "cell_type": "markdown",
      "source": [
        "Data Preprocessing\n"
      ],
      "metadata": {
        "id": "zY7zWQ9Yo4nC"
      }
    },
    {
      "cell_type": "markdown",
      "source": [
        "Training Image Preprocessing"
      ],
      "metadata": {
        "id": "eqpVAXv0pHUN"
      }
    },
    {
      "cell_type": "code",
      "source": [
        "train_datagen = ImageDataGenerator(\n",
        "        rescale=1./255,\n",
        "        shear_range=0.2,\n",
        "        zoom_range=0.2,\n",
        "        horizontal_flip=True)\n",
        "training_set = train_datagen.flow_from_directory(\n",
        "        '/content/drive/MyDrive/data/training_set',\n",
        "        target_size=(64, 64),\n",
        "        batch_size=32,\n",
        "        class_mode='categorical')"
      ],
      "metadata": {
        "colab": {
          "base_uri": "https://localhost:8080/"
        },
        "id": "psR4IhqP_FG6",
        "outputId": "38914365-5f2a-471c-a272-0c1677a2dcbd"
      },
      "execution_count": 12,
      "outputs": [
        {
          "output_type": "stream",
          "name": "stdout",
          "text": [
            "Found 1325 images belonging to 3 classes.\n"
          ]
        }
      ]
    },
    {
      "cell_type": "markdown",
      "source": [
        "Test Image Preprocessing"
      ],
      "metadata": {
        "id": "uzkrLZaQpLWF"
      }
    },
    {
      "cell_type": "code",
      "source": [
        "test_datagen = ImageDataGenerator(rescale=1./255)\n",
        "test_set = test_datagen.flow_from_directory(\n",
        "        '/content/drive/MyDrive/data/testing_set',\n",
        "        target_size=(64, 64),\n",
        "        batch_size=32,\n",
        "        class_mode='categorical')"
      ],
      "metadata": {
        "colab": {
          "base_uri": "https://localhost:8080/"
        },
        "id": "sdldr1P0_Nl4",
        "outputId": "a58d0a0c-0809-40cd-8694-f21783876bd0"
      },
      "execution_count": 13,
      "outputs": [
        {
          "output_type": "stream",
          "name": "stdout",
          "text": [
            "Found 332 images belonging to 3 classes.\n"
          ]
        }
      ]
    },
    {
      "cell_type": "markdown",
      "source": [
        "Building the model"
      ],
      "metadata": {
        "id": "kry_VBpENii2"
      }
    },
    {
      "cell_type": "code",
      "source": [
        "cnn = tf.keras.models.Sequential()"
      ],
      "metadata": {
        "id": "86wt2gZV_R91"
      },
      "execution_count": 87,
      "outputs": []
    },
    {
      "cell_type": "markdown",
      "source": [
        "Building convolution layer"
      ],
      "metadata": {
        "id": "vZvC6ALrNpIM"
      }
    },
    {
      "cell_type": "code",
      "source": [
        "cnn.add(tf.keras.layers.Conv2D(filters=128 , kernel_size=3 , activation='relu' , input_shape=[64,64,3])) #increased the filters from 64 to 128\n",
        "cnn.add(tf.keras.layers.MaxPool2D(pool_size=2,strides=2))"
      ],
      "metadata": {
        "id": "nAqjkU0i_U5l"
      },
      "execution_count": 88,
      "outputs": []
    },
    {
      "cell_type": "code",
      "source": [
        "cnn.add(tf.keras.layers.Conv2D(filters=128 , kernel_size=3 , activation='relu' )) #increased the filters from 64 to 128\n",
        "cnn.add(tf.keras.layers.MaxPool2D(pool_size=2 , strides=2))"
      ],
      "metadata": {
        "id": "JSizVCRy_YUV"
      },
      "execution_count": 89,
      "outputs": []
    },
    {
      "cell_type": "code",
      "source": [
        "cnn.add(tf.keras.layers.Dropout(0.5))"
      ],
      "metadata": {
        "id": "7KNoPw2Q_agb"
      },
      "execution_count": 90,
      "outputs": []
    },
    {
      "cell_type": "code",
      "source": [
        "cnn.add(tf.keras.layers.Flatten())"
      ],
      "metadata": {
        "id": "bQIZ2sM3_c0F"
      },
      "execution_count": 91,
      "outputs": []
    },
    {
      "cell_type": "code",
      "source": [
        "cnn.add(tf.keras.layers.Dense(units=128, activation='relu'))"
      ],
      "metadata": {
        "id": "EphMb3UW_e6u"
      },
      "execution_count": 92,
      "outputs": []
    },
    {
      "cell_type": "code",
      "source": [
        "cnn.add(tf.keras.layers.Dense(units=3 , activation='softmax'))  #changed the value of class from 5 to 3 "
      ],
      "metadata": {
        "id": "KHc8Xn07_g87"
      },
      "execution_count": 93,
      "outputs": []
    },
    {
      "cell_type": "code",
      "source": [
        "cnn.compile(optimizer = 'rmsprop' , loss = 'categorical_crossentropy' , metrics = ['accuracy'])"
      ],
      "metadata": {
        "id": "o3haIPyv_izr"
      },
      "execution_count": 94,
      "outputs": []
    },
    {
      "cell_type": "code",
      "source": [
        "model = cnn.fit(x = training_set , validation_data = test_set , epochs =30 )"
      ],
      "metadata": {
        "colab": {
          "base_uri": "https://localhost:8080/"
        },
        "id": "bFeoKR9V_kzE",
        "outputId": "16b89ec7-780c-4a8a-f3a6-e72720444847"
      },
      "execution_count": 99,
      "outputs": [
        {
          "output_type": "stream",
          "name": "stdout",
          "text": [
            "Epoch 1/30\n",
            "42/42 [==============================] - 6s 142ms/step - loss: 0.0603 - accuracy: 0.9789 - val_loss: 0.3870 - val_accuracy: 0.9187\n",
            "Epoch 2/30\n",
            "42/42 [==============================] - 6s 140ms/step - loss: 0.0974 - accuracy: 0.9751 - val_loss: 0.1770 - val_accuracy: 0.9518\n",
            "Epoch 3/30\n",
            "42/42 [==============================] - 6s 138ms/step - loss: 0.1085 - accuracy: 0.9675 - val_loss: 0.3864 - val_accuracy: 0.9217\n",
            "Epoch 4/30\n",
            "42/42 [==============================] - 6s 137ms/step - loss: 0.0814 - accuracy: 0.9766 - val_loss: 0.5534 - val_accuracy: 0.9036\n",
            "Epoch 5/30\n",
            "42/42 [==============================] - 6s 139ms/step - loss: 0.0460 - accuracy: 0.9857 - val_loss: 0.3127 - val_accuracy: 0.9398\n",
            "Epoch 6/30\n",
            "42/42 [==============================] - 6s 139ms/step - loss: 0.0614 - accuracy: 0.9872 - val_loss: 0.5247 - val_accuracy: 0.8916\n",
            "Epoch 7/30\n",
            "42/42 [==============================] - 6s 138ms/step - loss: 0.0730 - accuracy: 0.9842 - val_loss: 0.4851 - val_accuracy: 0.9096\n",
            "Epoch 8/30\n",
            "42/42 [==============================] - 6s 140ms/step - loss: 0.0430 - accuracy: 0.9834 - val_loss: 1.7782 - val_accuracy: 0.8102\n",
            "Epoch 9/30\n",
            "42/42 [==============================] - 7s 164ms/step - loss: 0.0411 - accuracy: 0.9879 - val_loss: 0.2712 - val_accuracy: 0.9518\n",
            "Epoch 10/30\n",
            "42/42 [==============================] - 6s 137ms/step - loss: 0.0461 - accuracy: 0.9894 - val_loss: 1.0750 - val_accuracy: 0.8825\n",
            "Epoch 11/30\n",
            "42/42 [==============================] - 6s 136ms/step - loss: 0.0478 - accuracy: 0.9872 - val_loss: 0.3242 - val_accuracy: 0.9488\n",
            "Epoch 12/30\n",
            "42/42 [==============================] - 6s 138ms/step - loss: 0.0358 - accuracy: 0.9917 - val_loss: 0.8749 - val_accuracy: 0.8584\n",
            "Epoch 13/30\n",
            "42/42 [==============================] - 6s 138ms/step - loss: 0.0503 - accuracy: 0.9872 - val_loss: 0.3454 - val_accuracy: 0.9488\n",
            "Epoch 14/30\n",
            "42/42 [==============================] - 6s 139ms/step - loss: 0.0508 - accuracy: 0.9894 - val_loss: 0.2493 - val_accuracy: 0.9608\n",
            "Epoch 15/30\n",
            "42/42 [==============================] - 6s 136ms/step - loss: 0.0116 - accuracy: 0.9940 - val_loss: 0.7929 - val_accuracy: 0.9217\n",
            "Epoch 16/30\n",
            "42/42 [==============================] - 6s 138ms/step - loss: 0.0343 - accuracy: 0.9894 - val_loss: 0.7128 - val_accuracy: 0.9367\n",
            "Epoch 17/30\n",
            "42/42 [==============================] - 6s 136ms/step - loss: 0.0465 - accuracy: 0.9887 - val_loss: 0.8476 - val_accuracy: 0.8916\n",
            "Epoch 18/30\n",
            "42/42 [==============================] - 6s 136ms/step - loss: 0.0313 - accuracy: 0.9925 - val_loss: 0.3465 - val_accuracy: 0.9548\n",
            "Epoch 19/30\n",
            "42/42 [==============================] - 6s 137ms/step - loss: 0.0366 - accuracy: 0.9879 - val_loss: 1.4953 - val_accuracy: 0.8614\n",
            "Epoch 20/30\n",
            "42/42 [==============================] - 6s 138ms/step - loss: 0.0356 - accuracy: 0.9925 - val_loss: 1.7938 - val_accuracy: 0.8434\n",
            "Epoch 21/30\n",
            "42/42 [==============================] - 6s 137ms/step - loss: 0.0192 - accuracy: 0.9940 - val_loss: 0.6683 - val_accuracy: 0.9187\n",
            "Epoch 22/30\n",
            "42/42 [==============================] - 6s 137ms/step - loss: 0.0218 - accuracy: 0.9947 - val_loss: 0.5105 - val_accuracy: 0.9488\n",
            "Epoch 23/30\n",
            "42/42 [==============================] - 6s 141ms/step - loss: 0.0785 - accuracy: 0.9872 - val_loss: 0.5249 - val_accuracy: 0.9488\n",
            "Epoch 24/30\n",
            "42/42 [==============================] - 6s 136ms/step - loss: 0.0182 - accuracy: 0.9962 - val_loss: 1.1864 - val_accuracy: 0.8886\n",
            "Epoch 25/30\n",
            "42/42 [==============================] - 6s 139ms/step - loss: 0.0445 - accuracy: 0.9894 - val_loss: 0.4777 - val_accuracy: 0.9518\n",
            "Epoch 26/30\n",
            "42/42 [==============================] - 6s 149ms/step - loss: 0.0225 - accuracy: 0.9962 - val_loss: 1.0032 - val_accuracy: 0.9217\n",
            "Epoch 27/30\n",
            "42/42 [==============================] - 6s 137ms/step - loss: 0.0432 - accuracy: 0.9947 - val_loss: 0.7634 - val_accuracy: 0.9367\n",
            "Epoch 28/30\n",
            "42/42 [==============================] - 6s 139ms/step - loss: 0.1346 - accuracy: 0.9864 - val_loss: 2.1690 - val_accuracy: 0.8554\n",
            "Epoch 29/30\n",
            "42/42 [==============================] - 6s 137ms/step - loss: 0.0186 - accuracy: 0.9932 - val_loss: 0.8310 - val_accuracy: 0.9247\n",
            "Epoch 30/30\n",
            "42/42 [==============================] - 6s 136ms/step - loss: 0.0685 - accuracy: 0.9917 - val_loss: 0.6617 - val_accuracy: 0.9458\n"
          ]
        }
      ]
    },
    {
      "cell_type": "code",
      "source": [
        "import statistics #doing the analysis on the mean accuracy of the test split\n",
        "mean_accuracy = statistics.mean(model.history[\"val_accuracy\"])\n",
        "mean_accuracy"
      ],
      "metadata": {
        "colab": {
          "base_uri": "https://localhost:8080/"
        },
        "id": "BJHeRiBGqkIv",
        "outputId": "1ac5090f-3c71-437a-d765-d4895834d3f0"
      },
      "execution_count": 96,
      "outputs": [
        {
          "output_type": "execute_result",
          "data": {
            "text/plain": [
              "0.8512048125267029"
            ]
          },
          "metadata": {},
          "execution_count": 96
        }
      ]
    },
    {
      "cell_type": "code",
      "source": [
        "cnn.evaluate(training_set) #calculated the accuracy of train split"
      ],
      "metadata": {
        "colab": {
          "base_uri": "https://localhost:8080/"
        },
        "id": "VPVF3qGnrJfM",
        "outputId": "514e10de-d6aa-4307-ff9d-1f7420e40309"
      },
      "execution_count": 98,
      "outputs": [
        {
          "output_type": "stream",
          "name": "stdout",
          "text": [
            "42/42 [==============================] - 6s 136ms/step - loss: 0.5228 - accuracy: 0.8687\n"
          ]
        },
        {
          "output_type": "execute_result",
          "data": {
            "text/plain": [
              "[0.5228174924850464, 0.8686792254447937]"
            ]
          },
          "metadata": {},
          "execution_count": 98
        }
      ]
    },
    {
      "cell_type": "markdown",
      "source": [
        "Preprocess new image. "
      ],
      "metadata": {
        "id": "4NbOvdtlUbq0"
      }
    },
    {
      "cell_type": "code",
      "source": [
        "from keras.preprocessing import image\n",
        "\n",
        "test_image = keras.utils.load_img('/content/drive/MyDrive/data/predictions/image_0021 6.09.42 PM.jpg',target_size=(64,64))\n",
        "test_image = keras.utils.img_to_array(test_image)\n",
        "test_image = np.expand_dims(test_image,axis=0)\n",
        "result = cnn.predict(test_image)\n",
        "training_set.class_indices"
      ],
      "metadata": {
        "colab": {
          "base_uri": "https://localhost:8080/"
        },
        "id": "GY6YYocH_n8E",
        "outputId": "42878c52-5fa3-459e-bb46-ea33b1a4b214"
      },
      "execution_count": 73,
      "outputs": [
        {
          "output_type": "stream",
          "name": "stdout",
          "text": [
            "1/1 [==============================] - 0s 108ms/step\n"
          ]
        },
        {
          "output_type": "execute_result",
          "data": {
            "text/plain": [
              "{'Motorbikes': 0, 'airplanes': 1, 'schooner': 2}"
            ]
          },
          "metadata": {},
          "execution_count": 73
        }
      ]
    },
    {
      "cell_type": "code",
      "source": [
        "if result[0][0]==1: #made changes according to the projects requirements of 3 classes instead of 5 in original project\n",
        "    print('Motorbikes')\n",
        "elif result[0][1]==1:\n",
        "    print('airplanes')\n",
        "elif result[0][2]==1:\n",
        "    print('schooner')"
      ],
      "metadata": {
        "colab": {
          "base_uri": "https://localhost:8080/"
        },
        "id": "lmYaZgRJ_qie",
        "outputId": "72247109-8c74-4ecc-d398-626719b965b4"
      },
      "execution_count": 74,
      "outputs": [
        {
          "output_type": "stream",
          "name": "stdout",
          "text": [
            "schooner\n"
          ]
        }
      ]
    },
    {
      "cell_type": "code",
      "source": [
        "print(result)\n"
      ],
      "metadata": {
        "colab": {
          "base_uri": "https://localhost:8080/"
        },
        "id": "FnP-d8w-_sye",
        "outputId": "0f1b6adb-0cde-4709-8924-828757ce105a"
      },
      "execution_count": 75,
      "outputs": [
        {
          "output_type": "stream",
          "name": "stdout",
          "text": [
            "[[0. 0. 1.]]\n"
          ]
        }
      ]
    }
  ]
}